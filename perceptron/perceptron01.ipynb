{
 "cells": [
  {
   "cell_type": "markdown",
   "metadata": {},
   "source": [
    "# Training perceptron model\n",
    "manually training percepron model on iris dataset\n",
    "performaning binary classification on iris (Setosa vs Non Setosa) dataset\n",
    "\n",
    "## steps\n",
    "\n",
    "- Initialize random weights and bias.\n",
    "- Set the learning rate and number of epochs.\n",
    "- Compute the weighted sum(z = w.x + b)\n",
    "- Apply the activation function (step function) to get the output (a = step(z))\n",
    "- Predict output and calculate error\n",
    "- Update weights and bias using perceptron learning rule\n",
    "- Iterating over the dataset for the specified number of epochs."
   ]
  },
  {
   "cell_type": "code",
   "execution_count": 2,
   "metadata": {},
   "outputs": [],
   "source": [
    "import numpy as np\n",
    "import pandas as pd\n",
    "from sklearn.model_selection import train_test_split\n",
    "from sklearn.preprocessing import LabelBinarizer\n"
   ]
  },
  {
   "cell_type": "code",
   "execution_count": 6,
   "metadata": {},
   "outputs": [
    {
     "data": {
      "text/html": [
       "<div>\n",
       "<style scoped>\n",
       "    .dataframe tbody tr th:only-of-type {\n",
       "        vertical-align: middle;\n",
       "    }\n",
       "\n",
       "    .dataframe tbody tr th {\n",
       "        vertical-align: top;\n",
       "    }\n",
       "\n",
       "    .dataframe thead th {\n",
       "        text-align: right;\n",
       "    }\n",
       "</style>\n",
       "<table border=\"1\" class=\"dataframe\">\n",
       "  <thead>\n",
       "    <tr style=\"text-align: right;\">\n",
       "      <th></th>\n",
       "      <th>sepal_length</th>\n",
       "      <th>sepal_width</th>\n",
       "      <th>petal_length</th>\n",
       "      <th>petal_width</th>\n",
       "      <th>species</th>\n",
       "    </tr>\n",
       "  </thead>\n",
       "  <tbody>\n",
       "    <tr>\n",
       "      <th>101</th>\n",
       "      <td>5.8</td>\n",
       "      <td>2.7</td>\n",
       "      <td>5.1</td>\n",
       "      <td>1.9</td>\n",
       "      <td>Iris-virginica</td>\n",
       "    </tr>\n",
       "    <tr>\n",
       "      <th>34</th>\n",
       "      <td>4.9</td>\n",
       "      <td>3.1</td>\n",
       "      <td>1.5</td>\n",
       "      <td>0.1</td>\n",
       "      <td>Iris-setosa</td>\n",
       "    </tr>\n",
       "    <tr>\n",
       "      <th>30</th>\n",
       "      <td>4.8</td>\n",
       "      <td>3.1</td>\n",
       "      <td>1.6</td>\n",
       "      <td>0.2</td>\n",
       "      <td>Iris-setosa</td>\n",
       "    </tr>\n",
       "    <tr>\n",
       "      <th>122</th>\n",
       "      <td>7.7</td>\n",
       "      <td>2.8</td>\n",
       "      <td>6.7</td>\n",
       "      <td>2.0</td>\n",
       "      <td>Iris-virginica</td>\n",
       "    </tr>\n",
       "    <tr>\n",
       "      <th>139</th>\n",
       "      <td>6.9</td>\n",
       "      <td>3.1</td>\n",
       "      <td>5.4</td>\n",
       "      <td>2.1</td>\n",
       "      <td>Iris-virginica</td>\n",
       "    </tr>\n",
       "  </tbody>\n",
       "</table>\n",
       "</div>"
      ],
      "text/plain": [
       "     sepal_length  sepal_width  petal_length  petal_width         species\n",
       "101           5.8          2.7           5.1          1.9  Iris-virginica\n",
       "34            4.9          3.1           1.5          0.1     Iris-setosa\n",
       "30            4.8          3.1           1.6          0.2     Iris-setosa\n",
       "122           7.7          2.8           6.7          2.0  Iris-virginica\n",
       "139           6.9          3.1           5.4          2.1  Iris-virginica"
      ]
     },
     "execution_count": 6,
     "metadata": {},
     "output_type": "execute_result"
    }
   ],
   "source": [
    "# Load the dataset\n",
    "url = \"https://raw.githubusercontent.com/jbrownlee/Datasets/master/iris.csv\"\n",
    "columns = [\"sepal_length\", \"sepal_width\", \"petal_length\", \"petal_width\", \"species\"]\n",
    "df = pd.read_csv(url, names=columns)\n",
    "df.sample(5)"
   ]
  },
  {
   "cell_type": "code",
   "execution_count": 8,
   "metadata": {},
   "outputs": [
    {
     "data": {
      "text/plain": [
       "(150, 5)"
      ]
     },
     "execution_count": 8,
     "metadata": {},
     "output_type": "execute_result"
    }
   ],
   "source": [
    "df.shape"
   ]
  },
  {
   "cell_type": "code",
   "execution_count": 9,
   "metadata": {},
   "outputs": [
    {
     "data": {
      "text/plain": [
       "(100, 5)"
      ]
     },
     "execution_count": 9,
     "metadata": {},
     "output_type": "execute_result"
    }
   ],
   "source": [
    "df = df[df[\"species\"].isin([\"Iris-setosa\", \"Iris-versicolor\"])]\n",
    "df.shape"
   ]
  },
  {
   "cell_type": "code",
   "execution_count": 10,
   "metadata": {},
   "outputs": [],
   "source": [
    "x = df[[\"sepal_length\", \"sepal_width\", \"petal_length\", \"petal_width\"]].values\n",
    "y = LabelBinarizer().fit_transform(df[\"species\"]).flatten()"
   ]
  },
  {
   "cell_type": "code",
   "execution_count": 15,
   "metadata": {},
   "outputs": [],
   "source": [
    "x_train, x_test, y_train, y_test = train_test_split(x, y, test_size=0.2, random_state=42)"
   ]
  },
  {
   "cell_type": "code",
   "execution_count": 16,
   "metadata": {},
   "outputs": [],
   "source": [
    "def step_function(x):\n",
    "    return 1 if x >= 0 else 0"
   ]
  },
  {
   "cell_type": "code",
   "execution_count": 17,
   "metadata": {},
   "outputs": [],
   "source": [
    "def predict(x, w, b):\n",
    "    z = np.dot(x, w) + b\n",
    "    return step_function(z)"
   ]
  },
  {
   "cell_type": "code",
   "execution_count": 18,
   "metadata": {},
   "outputs": [],
   "source": [
    "def train(x_train, y_train, epochs, learning_rate):\n",
    "    w = np.zeros(x_train.shape[1])\n",
    "    b = 0\n",
    "    for epoch in range(epochs):\n",
    "        for i in range(len(x_train)):\n",
    "            y_pred = predict(x_train[i], w, b)\n",
    "            error = y_train[i] - y_pred\n",
    "            w += learning_rate * error * x_train[i]\n",
    "            b += learning_rate * error\n",
    "    return w, b"
   ]
  },
  {
   "cell_type": "code",
   "execution_count": 19,
   "metadata": {},
   "outputs": [],
   "source": [
    "def evaluate(x_test, y_test, w, b):\n",
    "    y_pred = [predict(x, w, b) for x in x_test]\n",
    "    accuracy = np.sum(y_pred == y_test) / len(y_test)\n",
    "    return accuracy"
   ]
  },
  {
   "cell_type": "code",
   "execution_count": 20,
   "metadata": {},
   "outputs": [],
   "source": [
    "#train the model\n",
    "perceptron = train(x_train, y_train, epochs=100, learning_rate=0.01)"
   ]
  },
  {
   "cell_type": "code",
   "execution_count": 21,
   "metadata": {},
   "outputs": [
    {
     "name": "stdout",
     "output_type": "stream",
     "text": [
      "Accuracy: 1.00\n"
     ]
    }
   ],
   "source": [
    "accuracy = evaluate(x_test, y_test, *perceptron)\n",
    "print(f\"Accuracy: {accuracy:.2f}\")"
   ]
  },
  {
   "cell_type": "code",
   "execution_count": 22,
   "metadata": {},
   "outputs": [
    {
     "name": "stdout",
     "output_type": "stream",
     "text": [
      "Prediction: 1, Actual: 1\n",
      "Prediction: 1, Actual: 1\n",
      "Prediction: 1, Actual: 1\n",
      "Prediction: 0, Actual: 0\n",
      "Prediction: 0, Actual: 0\n",
      "Prediction: 0, Actual: 0\n",
      "Prediction: 0, Actual: 0\n",
      "Prediction: 1, Actual: 1\n",
      "Prediction: 0, Actual: 0\n",
      "Prediction: 0, Actual: 0\n",
      "Prediction: 0, Actual: 0\n",
      "Prediction: 0, Actual: 0\n",
      "Prediction: 1, Actual: 1\n",
      "Prediction: 0, Actual: 0\n",
      "Prediction: 1, Actual: 1\n",
      "Prediction: 0, Actual: 0\n",
      "Prediction: 1, Actual: 1\n",
      "Prediction: 1, Actual: 1\n",
      "Prediction: 0, Actual: 0\n",
      "Prediction: 0, Actual: 0\n"
     ]
    }
   ],
   "source": [
    "#test the model\n",
    "for x, y in zip(x_test, y_test):\n",
    "    y_pred = predict(x, *perceptron)\n",
    "    print(f\"Prediction: {y_pred}, Actual: {y}\")"
   ]
  }
 ],
 "metadata": {
  "kernelspec": {
   "display_name": "base",
   "language": "python",
   "name": "python3"
  },
  "language_info": {
   "codemirror_mode": {
    "name": "ipython",
    "version": 3
   },
   "file_extension": ".py",
   "mimetype": "text/x-python",
   "name": "python",
   "nbconvert_exporter": "python",
   "pygments_lexer": "ipython3",
   "version": "3.12.7"
  }
 },
 "nbformat": 4,
 "nbformat_minor": 2
}
